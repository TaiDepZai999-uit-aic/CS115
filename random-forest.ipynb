{
 "cells": [
  {
   "cell_type": "code",
   "execution_count": 20,
   "id": "1fe873e1",
   "metadata": {
    "execution": {
     "iopub.execute_input": "2024-12-08T09:52:16.790763Z",
     "iopub.status.busy": "2024-12-08T09:52:16.790330Z",
     "iopub.status.idle": "2024-12-08T09:52:22.698017Z",
     "shell.execute_reply": "2024-12-08T09:52:22.697038Z"
    },
    "papermill": {
     "duration": 5.918897,
     "end_time": "2024-12-08T09:52:22.700376",
     "exception": false,
     "start_time": "2024-12-08T09:52:16.781479",
     "status": "completed"
    },
    "tags": []
   },
   "outputs": [],
   "source": [
    "import torch\n",
    "import pandas as pd\n",
    "import numpy as np\n",
    "import os\n",
    "import matplotlib.pyplot as plt\n",
    "import seaborn as sns\n",
    "from sklearn.metrics import classification_report, f1_score, confusion_matrix\n",
    "from sklearn.ensemble import RandomForestClassifier\n",
    "from sklearn.impute import KNNImputer\n",
    "from sklearn.model_selection import train_test_split, GridSearchCV"
   ]
  },
  {
   "cell_type": "markdown",
   "id": "db63227a",
   "metadata": {
    "papermill": {
     "duration": 0.006185,
     "end_time": "2024-12-08T09:52:22.713646",
     "exception": false,
     "start_time": "2024-12-08T09:52:22.707461",
     "status": "completed"
    },
    "tags": []
   },
   "source": [
    "## Loading dataset"
   ]
  },
  {
   "cell_type": "code",
   "execution_count": 21,
   "id": "d7945f5a",
   "metadata": {
    "execution": {
     "iopub.execute_input": "2024-12-08T09:52:22.729248Z",
     "iopub.status.busy": "2024-12-08T09:52:22.728660Z",
     "iopub.status.idle": "2024-12-08T09:52:22.760270Z",
     "shell.execute_reply": "2024-12-08T09:52:22.758922Z"
    },
    "papermill": {
     "duration": 0.041677,
     "end_time": "2024-12-08T09:52:22.762879",
     "exception": false,
     "start_time": "2024-12-08T09:52:22.721202",
     "status": "completed"
    },
    "tags": []
   },
   "outputs": [],
   "source": [
    "df = pd.read_csv('./beophi.csv', index_col = 0)"
   ]
  },
  {
   "cell_type": "code",
   "execution_count": 22,
   "id": "36c8934d",
   "metadata": {
    "execution": {
     "iopub.execute_input": "2024-12-08T09:52:22.777475Z",
     "iopub.status.busy": "2024-12-08T09:52:22.777079Z",
     "iopub.status.idle": "2024-12-08T09:52:22.799633Z",
     "shell.execute_reply": "2024-12-08T09:52:22.797884Z"
    },
    "papermill": {
     "duration": 0.032884,
     "end_time": "2024-12-08T09:52:22.802343",
     "exception": false,
     "start_time": "2024-12-08T09:52:22.769459",
     "status": "completed"
    },
    "tags": []
   },
   "outputs": [
    {
     "name": "stdout",
     "output_type": "stream",
     "text": [
      "<class 'pandas.core.frame.DataFrame'>\n",
      "Index: 773 entries, 0 to 772\n",
      "Data columns (total 9 columns):\n",
      " #   Column                    Non-Null Count  Dtype  \n",
      "---  ------                    --------------  -----  \n",
      " 0   Pregnancies               773 non-null    int64  \n",
      " 1   Glucose                   772 non-null    float64\n",
      " 2   BloodPressure             773 non-null    int64  \n",
      " 3   SkinThickness             773 non-null    int64  \n",
      " 4   Insulin                   773 non-null    int64  \n",
      " 5   BMI                       772 non-null    float64\n",
      " 6   DiabetesPedigreeFunction  773 non-null    float64\n",
      " 7   Age                       773 non-null    int64  \n",
      " 8   Outcome                   773 non-null    int64  \n",
      "dtypes: float64(3), int64(6)\n",
      "memory usage: 60.4 KB\n"
     ]
    }
   ],
   "source": [
    "df.info()"
   ]
  },
  {
   "cell_type": "markdown",
   "id": "1cedf922",
   "metadata": {
    "papermill": {
     "duration": 0.008857,
     "end_time": "2024-12-08T09:52:22.818837",
     "exception": false,
     "start_time": "2024-12-08T09:52:22.809980",
     "status": "completed"
    },
    "tags": []
   },
   "source": [
    "## Data Cleaning"
   ]
  },
  {
   "cell_type": "code",
   "execution_count": 23,
   "id": "781d4919",
   "metadata": {
    "execution": {
     "iopub.execute_input": "2024-12-08T09:52:22.837930Z",
     "iopub.status.busy": "2024-12-08T09:52:22.837482Z",
     "iopub.status.idle": "2024-12-08T09:52:22.883558Z",
     "shell.execute_reply": "2024-12-08T09:52:22.882524Z"
    },
    "papermill": {
     "duration": 0.058656,
     "end_time": "2024-12-08T09:52:22.885696",
     "exception": false,
     "start_time": "2024-12-08T09:52:22.827040",
     "status": "completed"
    },
    "tags": []
   },
   "outputs": [
    {
     "data": {
      "text/html": [
       "<div>\n",
       "<style scoped>\n",
       "    .dataframe tbody tr th:only-of-type {\n",
       "        vertical-align: middle;\n",
       "    }\n",
       "\n",
       "    .dataframe tbody tr th {\n",
       "        vertical-align: top;\n",
       "    }\n",
       "\n",
       "    .dataframe thead th {\n",
       "        text-align: right;\n",
       "    }\n",
       "</style>\n",
       "<table border=\"1\" class=\"dataframe\">\n",
       "  <thead>\n",
       "    <tr style=\"text-align: right;\">\n",
       "      <th></th>\n",
       "      <th>Pregnancies</th>\n",
       "      <th>Glucose</th>\n",
       "      <th>BloodPressure</th>\n",
       "      <th>SkinThickness</th>\n",
       "      <th>Insulin</th>\n",
       "      <th>BMI</th>\n",
       "      <th>DiabetesPedigreeFunction</th>\n",
       "      <th>Age</th>\n",
       "      <th>Outcome</th>\n",
       "    </tr>\n",
       "  </thead>\n",
       "  <tbody>\n",
       "    <tr>\n",
       "      <th>count</th>\n",
       "      <td>773.000000</td>\n",
       "      <td>772.000000</td>\n",
       "      <td>773.000000</td>\n",
       "      <td>773.000000</td>\n",
       "      <td>773.000000</td>\n",
       "      <td>772.000000</td>\n",
       "      <td>773.000000</td>\n",
       "      <td>773.000000</td>\n",
       "      <td>773.000000</td>\n",
       "    </tr>\n",
       "    <tr>\n",
       "      <th>mean</th>\n",
       "      <td>3.824062</td>\n",
       "      <td>121.813472</td>\n",
       "      <td>69.952135</td>\n",
       "      <td>20.552393</td>\n",
       "      <td>79.380336</td>\n",
       "      <td>37.513342</td>\n",
       "      <td>0.469982</td>\n",
       "      <td>33.191462</td>\n",
       "      <td>0.351876</td>\n",
       "    </tr>\n",
       "    <tr>\n",
       "      <th>std</th>\n",
       "      <td>3.369336</td>\n",
       "      <td>40.868603</td>\n",
       "      <td>30.392494</td>\n",
       "      <td>15.927667</td>\n",
       "      <td>114.990798</td>\n",
       "      <td>155.004046</td>\n",
       "      <td>0.331145</td>\n",
       "      <td>11.744123</td>\n",
       "      <td>0.480568</td>\n",
       "    </tr>\n",
       "    <tr>\n",
       "      <th>min</th>\n",
       "      <td>0.000000</td>\n",
       "      <td>0.000000</td>\n",
       "      <td>0.000000</td>\n",
       "      <td>0.000000</td>\n",
       "      <td>0.000000</td>\n",
       "      <td>0.000000</td>\n",
       "      <td>0.078000</td>\n",
       "      <td>19.000000</td>\n",
       "      <td>0.000000</td>\n",
       "    </tr>\n",
       "    <tr>\n",
       "      <th>25%</th>\n",
       "      <td>1.000000</td>\n",
       "      <td>99.000000</td>\n",
       "      <td>64.000000</td>\n",
       "      <td>0.000000</td>\n",
       "      <td>0.000000</td>\n",
       "      <td>27.275000</td>\n",
       "      <td>0.240000</td>\n",
       "      <td>24.000000</td>\n",
       "      <td>0.000000</td>\n",
       "    </tr>\n",
       "    <tr>\n",
       "      <th>50%</th>\n",
       "      <td>3.000000</td>\n",
       "      <td>117.000000</td>\n",
       "      <td>72.000000</td>\n",
       "      <td>23.000000</td>\n",
       "      <td>25.000000</td>\n",
       "      <td>32.000000</td>\n",
       "      <td>0.370000</td>\n",
       "      <td>29.000000</td>\n",
       "      <td>0.000000</td>\n",
       "    </tr>\n",
       "    <tr>\n",
       "      <th>75%</th>\n",
       "      <td>6.000000</td>\n",
       "      <td>141.000000</td>\n",
       "      <td>80.000000</td>\n",
       "      <td>32.000000</td>\n",
       "      <td>126.000000</td>\n",
       "      <td>36.600000</td>\n",
       "      <td>0.624000</td>\n",
       "      <td>41.000000</td>\n",
       "      <td>1.000000</td>\n",
       "    </tr>\n",
       "    <tr>\n",
       "      <th>max</th>\n",
       "      <td>17.000000</td>\n",
       "      <td>830.000000</td>\n",
       "      <td>722.000000</td>\n",
       "      <td>99.000000</td>\n",
       "      <td>846.000000</td>\n",
       "      <td>4333.100000</td>\n",
       "      <td>2.420000</td>\n",
       "      <td>81.000000</td>\n",
       "      <td>2.000000</td>\n",
       "    </tr>\n",
       "  </tbody>\n",
       "</table>\n",
       "</div>"
      ],
      "text/plain": [
       "       Pregnancies     Glucose  BloodPressure  SkinThickness     Insulin  \\\n",
       "count   773.000000  772.000000     773.000000     773.000000  773.000000   \n",
       "mean      3.824062  121.813472      69.952135      20.552393   79.380336   \n",
       "std       3.369336   40.868603      30.392494      15.927667  114.990798   \n",
       "min       0.000000    0.000000       0.000000       0.000000    0.000000   \n",
       "25%       1.000000   99.000000      64.000000       0.000000    0.000000   \n",
       "50%       3.000000  117.000000      72.000000      23.000000   25.000000   \n",
       "75%       6.000000  141.000000      80.000000      32.000000  126.000000   \n",
       "max      17.000000  830.000000     722.000000      99.000000  846.000000   \n",
       "\n",
       "               BMI  DiabetesPedigreeFunction         Age     Outcome  \n",
       "count   772.000000                773.000000  773.000000  773.000000  \n",
       "mean     37.513342                  0.469982   33.191462    0.351876  \n",
       "std     155.004046                  0.331145   11.744123    0.480568  \n",
       "min       0.000000                  0.078000   19.000000    0.000000  \n",
       "25%      27.275000                  0.240000   24.000000    0.000000  \n",
       "50%      32.000000                  0.370000   29.000000    0.000000  \n",
       "75%      36.600000                  0.624000   41.000000    1.000000  \n",
       "max    4333.100000                  2.420000   81.000000    2.000000  "
      ]
     },
     "execution_count": 23,
     "metadata": {},
     "output_type": "execute_result"
    }
   ],
   "source": [
    "df.describe()"
   ]
  },
  {
   "cell_type": "markdown",
   "id": "f9179926",
   "metadata": {
    "papermill": {
     "duration": 0.006386,
     "end_time": "2024-12-08T09:52:22.898908",
     "exception": false,
     "start_time": "2024-12-08T09:52:22.892522",
     "status": "completed"
    },
    "tags": []
   },
   "source": [
    "Ta có thể thấy được giá trị max của 3 cột BloodPressure, Insulin và BMI lớn bất thường so với các giá trị khác."
   ]
  },
  {
   "cell_type": "markdown",
   "id": "981fc3f2",
   "metadata": {
    "papermill": {
     "duration": 0.006173,
     "end_time": "2024-12-08T09:52:22.911598",
     "exception": false,
     "start_time": "2024-12-08T09:52:22.905425",
     "status": "completed"
    },
    "tags": []
   },
   "source": [
    "Cột Outcome cũng chỉ nên có giá trị là 0 hoặc 1 nhưng lại xuất hiện giá trị 2."
   ]
  },
  {
   "cell_type": "code",
   "execution_count": null,
   "id": "565aaa96",
   "metadata": {},
   "outputs": [],
   "source": [
    "df.isnull().sum()"
   ]
  },
  {
   "cell_type": "code",
   "execution_count": 24,
   "id": "9fa479ad",
   "metadata": {
    "execution": {
     "iopub.execute_input": "2024-12-08T09:52:22.926865Z",
     "iopub.status.busy": "2024-12-08T09:52:22.926439Z",
     "iopub.status.idle": "2024-12-08T09:52:22.939740Z",
     "shell.execute_reply": "2024-12-08T09:52:22.938506Z"
    },
    "papermill": {
     "duration": 0.024522,
     "end_time": "2024-12-08T09:52:22.942626",
     "exception": false,
     "start_time": "2024-12-08T09:52:22.918104",
     "status": "completed"
    },
    "tags": []
   },
   "outputs": [
    {
     "data": {
      "text/html": [
       "<div>\n",
       "<style scoped>\n",
       "    .dataframe tbody tr th:only-of-type {\n",
       "        vertical-align: middle;\n",
       "    }\n",
       "\n",
       "    .dataframe tbody tr th {\n",
       "        vertical-align: top;\n",
       "    }\n",
       "\n",
       "    .dataframe thead th {\n",
       "        text-align: right;\n",
       "    }\n",
       "</style>\n",
       "<table border=\"1\" class=\"dataframe\">\n",
       "  <thead>\n",
       "    <tr style=\"text-align: right;\">\n",
       "      <th></th>\n",
       "      <th>Pregnancies</th>\n",
       "      <th>Glucose</th>\n",
       "      <th>BloodPressure</th>\n",
       "      <th>SkinThickness</th>\n",
       "      <th>Insulin</th>\n",
       "      <th>BMI</th>\n",
       "      <th>DiabetesPedigreeFunction</th>\n",
       "      <th>Age</th>\n",
       "      <th>Outcome</th>\n",
       "    </tr>\n",
       "  </thead>\n",
       "  <tbody>\n",
       "  </tbody>\n",
       "</table>\n",
       "</div>"
      ],
      "text/plain": [
       "Empty DataFrame\n",
       "Columns: [Pregnancies, Glucose, BloodPressure, SkinThickness, Insulin, BMI, DiabetesPedigreeFunction, Age, Outcome]\n",
       "Index: []"
      ]
     },
     "execution_count": 24,
     "metadata": {},
     "output_type": "execute_result"
    }
   ],
   "source": [
    "df = df[df[\"BMI\"] < 4333.1]\n",
    "df[df[\"BMI\"] >= 4333.1]"
   ]
  },
  {
   "cell_type": "code",
   "execution_count": 25,
   "id": "893727c4",
   "metadata": {
    "execution": {
     "iopub.execute_input": "2024-12-08T09:52:22.965032Z",
     "iopub.status.busy": "2024-12-08T09:52:22.963917Z",
     "iopub.status.idle": "2024-12-08T09:52:22.979022Z",
     "shell.execute_reply": "2024-12-08T09:52:22.977944Z"
    },
    "papermill": {
     "duration": 0.028105,
     "end_time": "2024-12-08T09:52:22.982009",
     "exception": false,
     "start_time": "2024-12-08T09:52:22.953904",
     "status": "completed"
    },
    "tags": []
   },
   "outputs": [
    {
     "data": {
      "text/html": [
       "<div>\n",
       "<style scoped>\n",
       "    .dataframe tbody tr th:only-of-type {\n",
       "        vertical-align: middle;\n",
       "    }\n",
       "\n",
       "    .dataframe tbody tr th {\n",
       "        vertical-align: top;\n",
       "    }\n",
       "\n",
       "    .dataframe thead th {\n",
       "        text-align: right;\n",
       "    }\n",
       "</style>\n",
       "<table border=\"1\" class=\"dataframe\">\n",
       "  <thead>\n",
       "    <tr style=\"text-align: right;\">\n",
       "      <th></th>\n",
       "      <th>Pregnancies</th>\n",
       "      <th>Glucose</th>\n",
       "      <th>BloodPressure</th>\n",
       "      <th>SkinThickness</th>\n",
       "      <th>Insulin</th>\n",
       "      <th>BMI</th>\n",
       "      <th>DiabetesPedigreeFunction</th>\n",
       "      <th>Age</th>\n",
       "      <th>Outcome</th>\n",
       "    </tr>\n",
       "  </thead>\n",
       "  <tbody>\n",
       "  </tbody>\n",
       "</table>\n",
       "</div>"
      ],
      "text/plain": [
       "Empty DataFrame\n",
       "Columns: [Pregnancies, Glucose, BloodPressure, SkinThickness, Insulin, BMI, DiabetesPedigreeFunction, Age, Outcome]\n",
       "Index: []"
      ]
     },
     "execution_count": 25,
     "metadata": {},
     "output_type": "execute_result"
    }
   ],
   "source": [
    "df = df[df[\"BloodPressure\"] < 722]\n",
    "df[df[\"BloodPressure\"] >= 722]"
   ]
  },
  {
   "cell_type": "code",
   "execution_count": 26,
   "id": "40a67900",
   "metadata": {
    "execution": {
     "iopub.execute_input": "2024-12-08T09:52:23.011030Z",
     "iopub.status.busy": "2024-12-08T09:52:23.010465Z",
     "iopub.status.idle": "2024-12-08T09:52:23.026601Z",
     "shell.execute_reply": "2024-12-08T09:52:23.025300Z"
    },
    "papermill": {
     "duration": 0.035617,
     "end_time": "2024-12-08T09:52:23.029769",
     "exception": false,
     "start_time": "2024-12-08T09:52:22.994152",
     "status": "completed"
    },
    "tags": []
   },
   "outputs": [
    {
     "data": {
      "text/html": [
       "<div>\n",
       "<style scoped>\n",
       "    .dataframe tbody tr th:only-of-type {\n",
       "        vertical-align: middle;\n",
       "    }\n",
       "\n",
       "    .dataframe tbody tr th {\n",
       "        vertical-align: top;\n",
       "    }\n",
       "\n",
       "    .dataframe thead th {\n",
       "        text-align: right;\n",
       "    }\n",
       "</style>\n",
       "<table border=\"1\" class=\"dataframe\">\n",
       "  <thead>\n",
       "    <tr style=\"text-align: right;\">\n",
       "      <th></th>\n",
       "      <th>Pregnancies</th>\n",
       "      <th>Glucose</th>\n",
       "      <th>BloodPressure</th>\n",
       "      <th>SkinThickness</th>\n",
       "      <th>Insulin</th>\n",
       "      <th>BMI</th>\n",
       "      <th>DiabetesPedigreeFunction</th>\n",
       "      <th>Age</th>\n",
       "      <th>Outcome</th>\n",
       "    </tr>\n",
       "  </thead>\n",
       "  <tbody>\n",
       "  </tbody>\n",
       "</table>\n",
       "</div>"
      ],
      "text/plain": [
       "Empty DataFrame\n",
       "Columns: [Pregnancies, Glucose, BloodPressure, SkinThickness, Insulin, BMI, DiabetesPedigreeFunction, Age, Outcome]\n",
       "Index: []"
      ]
     },
     "execution_count": 26,
     "metadata": {},
     "output_type": "execute_result"
    }
   ],
   "source": [
    "df = df[df[\"Glucose\"] < 830]\n",
    "df[df[\"Glucose\"] >= 830]"
   ]
  },
  {
   "cell_type": "code",
   "execution_count": 27,
   "id": "e9c163bc",
   "metadata": {
    "execution": {
     "iopub.execute_input": "2024-12-08T09:52:23.059827Z",
     "iopub.status.busy": "2024-12-08T09:52:23.058662Z",
     "iopub.status.idle": "2024-12-08T09:52:23.073191Z",
     "shell.execute_reply": "2024-12-08T09:52:23.072091Z"
    },
    "papermill": {
     "duration": 0.032665,
     "end_time": "2024-12-08T09:52:23.075190",
     "exception": false,
     "start_time": "2024-12-08T09:52:23.042525",
     "status": "completed"
    },
    "tags": []
   },
   "outputs": [
    {
     "data": {
      "text/html": [
       "<div>\n",
       "<style scoped>\n",
       "    .dataframe tbody tr th:only-of-type {\n",
       "        vertical-align: middle;\n",
       "    }\n",
       "\n",
       "    .dataframe tbody tr th {\n",
       "        vertical-align: top;\n",
       "    }\n",
       "\n",
       "    .dataframe thead th {\n",
       "        text-align: right;\n",
       "    }\n",
       "</style>\n",
       "<table border=\"1\" class=\"dataframe\">\n",
       "  <thead>\n",
       "    <tr style=\"text-align: right;\">\n",
       "      <th></th>\n",
       "      <th>Pregnancies</th>\n",
       "      <th>Glucose</th>\n",
       "      <th>BloodPressure</th>\n",
       "      <th>SkinThickness</th>\n",
       "      <th>Insulin</th>\n",
       "      <th>BMI</th>\n",
       "      <th>DiabetesPedigreeFunction</th>\n",
       "      <th>Age</th>\n",
       "      <th>Outcome</th>\n",
       "    </tr>\n",
       "  </thead>\n",
       "  <tbody>\n",
       "  </tbody>\n",
       "</table>\n",
       "</div>"
      ],
      "text/plain": [
       "Empty DataFrame\n",
       "Columns: [Pregnancies, Glucose, BloodPressure, SkinThickness, Insulin, BMI, DiabetesPedigreeFunction, Age, Outcome]\n",
       "Index: []"
      ]
     },
     "execution_count": 27,
     "metadata": {},
     "output_type": "execute_result"
    }
   ],
   "source": [
    "df = df[df[\"Outcome\"] < 2]\n",
    "df[df[\"Outcome\"] >= 2]"
   ]
  },
  {
   "cell_type": "code",
   "execution_count": 28,
   "id": "68641510",
   "metadata": {
    "execution": {
     "iopub.execute_input": "2024-12-08T09:52:23.091263Z",
     "iopub.status.busy": "2024-12-08T09:52:23.090873Z",
     "iopub.status.idle": "2024-12-08T09:52:23.099392Z",
     "shell.execute_reply": "2024-12-08T09:52:23.098301Z"
    },
    "papermill": {
     "duration": 0.019137,
     "end_time": "2024-12-08T09:52:23.101576",
     "exception": false,
     "start_time": "2024-12-08T09:52:23.082439",
     "status": "completed"
    },
    "tags": []
   },
   "outputs": [
    {
     "data": {
      "text/plain": [
       "Pregnancies                 0\n",
       "Glucose                     0\n",
       "BloodPressure               0\n",
       "SkinThickness               0\n",
       "Insulin                     0\n",
       "BMI                         0\n",
       "DiabetesPedigreeFunction    0\n",
       "Age                         0\n",
       "Outcome                     0\n",
       "dtype: int64"
      ]
     },
     "execution_count": 28,
     "metadata": {},
     "output_type": "execute_result"
    }
   ],
   "source": [
    "df.isnull().sum()"
   ]
  },
  {
   "cell_type": "markdown",
   "id": "83193743",
   "metadata": {
    "papermill": {
     "duration": 0.006982,
     "end_time": "2024-12-08T09:52:23.115868",
     "exception": false,
     "start_time": "2024-12-08T09:52:23.108886",
     "status": "completed"
    },
    "tags": []
   },
   "source": [
    "Khi sử dụng hàm isnull() để kiểm tra các giá trị NULL đều sẽ cho kết quả = 0.\n",
    "Tuy nhiên, khi sử dụng hàm info() thì ta thấy được cột BMI và cột Glucose có giá trị NULL."
   ]
  },
  {
   "cell_type": "markdown",
   "id": "d2d5e350",
   "metadata": {
    "papermill": {
     "duration": 0.009351,
     "end_time": "2024-12-08T09:52:23.146328",
     "exception": false,
     "start_time": "2024-12-08T09:52:23.136977",
     "status": "completed"
    },
    "tags": []
   },
   "source": [
    "Để giải quyết vấn đề này ta sẽ thử qua các phương pháp\n",
    "\n",
    "- Drop record bị khuyết\n",
    "- Fill bằng giá trị 0\n",
    "- Fill bằng giá trị trung bình toàn cục\n",
    "- Fill bằng \"KNN Imputer\""
   ]
  },
  {
   "cell_type": "code",
   "execution_count": 29,
   "id": "da721f2e",
   "metadata": {
    "execution": {
     "iopub.execute_input": "2024-12-08T09:52:23.167624Z",
     "iopub.status.busy": "2024-12-08T09:52:23.166644Z",
     "iopub.status.idle": "2024-12-08T09:52:23.173531Z",
     "shell.execute_reply": "2024-12-08T09:52:23.172459Z"
    },
    "papermill": {
     "duration": 0.019725,
     "end_time": "2024-12-08T09:52:23.177097",
     "exception": false,
     "start_time": "2024-12-08T09:52:23.157372",
     "status": "completed"
    },
    "tags": []
   },
   "outputs": [],
   "source": [
    "df_mean = df.copy(deep=True)\n",
    "df_zero = df.copy(deep=True)\n",
    "df_imputed = df.copy(deep=True)\n",
    "df_drop = df.copy(deep=True)"
   ]
  },
  {
   "cell_type": "code",
   "execution_count": 30,
   "id": "c840a30e",
   "metadata": {
    "execution": {
     "iopub.execute_input": "2024-12-08T09:52:23.194214Z",
     "iopub.status.busy": "2024-12-08T09:52:23.193648Z",
     "iopub.status.idle": "2024-12-08T09:52:23.206430Z",
     "shell.execute_reply": "2024-12-08T09:52:23.205330Z"
    },
    "papermill": {
     "duration": 0.024438,
     "end_time": "2024-12-08T09:52:23.209084",
     "exception": false,
     "start_time": "2024-12-08T09:52:23.184646",
     "status": "completed"
    },
    "tags": []
   },
   "outputs": [
    {
     "data": {
      "text/plain": [
       "Pregnancies                 0\n",
       "Glucose                     0\n",
       "BloodPressure               0\n",
       "SkinThickness               0\n",
       "Insulin                     0\n",
       "BMI                         0\n",
       "DiabetesPedigreeFunction    0\n",
       "Age                         0\n",
       "Outcome                     0\n",
       "dtype: int64"
      ]
     },
     "execution_count": 30,
     "metadata": {},
     "output_type": "execute_result"
    }
   ],
   "source": [
    "df_zero['Glucose'] = df_mean['Glucose'].fillna(0)\n",
    "df_mean['BMI'] = df_zero['BMI'].fillna(0)\n",
    "\n",
    "df_zero.isnull().sum()"
   ]
  },
  {
   "cell_type": "code",
   "execution_count": 31,
   "id": "d716191d",
   "metadata": {
    "execution": {
     "iopub.execute_input": "2024-12-08T09:52:23.231105Z",
     "iopub.status.busy": "2024-12-08T09:52:23.230626Z",
     "iopub.status.idle": "2024-12-08T09:52:23.241210Z",
     "shell.execute_reply": "2024-12-08T09:52:23.240170Z"
    },
    "papermill": {
     "duration": 0.021628,
     "end_time": "2024-12-08T09:52:23.243382",
     "exception": false,
     "start_time": "2024-12-08T09:52:23.221754",
     "status": "completed"
    },
    "tags": []
   },
   "outputs": [
    {
     "data": {
      "text/plain": [
       "Pregnancies                 0\n",
       "Glucose                     0\n",
       "BloodPressure               0\n",
       "SkinThickness               0\n",
       "Insulin                     0\n",
       "BMI                         0\n",
       "DiabetesPedigreeFunction    0\n",
       "Age                         0\n",
       "Outcome                     0\n",
       "dtype: int64"
      ]
     },
     "execution_count": 31,
     "metadata": {},
     "output_type": "execute_result"
    }
   ],
   "source": [
    "df_mean['Glucose'] = df_mean['Glucose'].fillna(df_mean['Glucose'].mean())\n",
    "df_mean['BMI'] = df_mean['BMI'].fillna(df_mean['BMI'].mean())\n",
    "\n",
    "df_mean.isnull().sum()"
   ]
  },
  {
   "cell_type": "code",
   "execution_count": 32,
   "id": "7c127d5a",
   "metadata": {
    "execution": {
     "iopub.execute_input": "2024-12-08T09:52:23.260360Z",
     "iopub.status.busy": "2024-12-08T09:52:23.259958Z",
     "iopub.status.idle": "2024-12-08T09:52:23.273697Z",
     "shell.execute_reply": "2024-12-08T09:52:23.272613Z"
    },
    "papermill": {
     "duration": 0.024922,
     "end_time": "2024-12-08T09:52:23.275990",
     "exception": false,
     "start_time": "2024-12-08T09:52:23.251068",
     "status": "completed"
    },
    "tags": []
   },
   "outputs": [
    {
     "data": {
      "text/plain": [
       "Pregnancies                 0\n",
       "Glucose                     0\n",
       "BloodPressure               0\n",
       "SkinThickness               0\n",
       "Insulin                     0\n",
       "BMI                         0\n",
       "DiabetesPedigreeFunction    0\n",
       "Age                         0\n",
       "Outcome                     0\n",
       "dtype: int64"
      ]
     },
     "execution_count": 32,
     "metadata": {},
     "output_type": "execute_result"
    }
   ],
   "source": [
    "imputer = KNNImputer(n_neighbors=5, weights=\"uniform\")\n",
    "df_imputed = pd.DataFrame(imputer.fit_transform(df), columns=df.columns)\n",
    "df_imputed.isnull().sum()"
   ]
  },
  {
   "cell_type": "code",
   "execution_count": 33,
   "id": "85dbf271",
   "metadata": {
    "execution": {
     "iopub.execute_input": "2024-12-08T09:52:23.293006Z",
     "iopub.status.busy": "2024-12-08T09:52:23.292586Z",
     "iopub.status.idle": "2024-12-08T09:52:23.301878Z",
     "shell.execute_reply": "2024-12-08T09:52:23.300789Z"
    },
    "papermill": {
     "duration": 0.020515,
     "end_time": "2024-12-08T09:52:23.304089",
     "exception": false,
     "start_time": "2024-12-08T09:52:23.283574",
     "status": "completed"
    },
    "tags": []
   },
   "outputs": [
    {
     "data": {
      "text/plain": [
       "Pregnancies                 0\n",
       "Glucose                     0\n",
       "BloodPressure               0\n",
       "SkinThickness               0\n",
       "Insulin                     0\n",
       "BMI                         0\n",
       "DiabetesPedigreeFunction    0\n",
       "Age                         0\n",
       "Outcome                     0\n",
       "dtype: int64"
      ]
     },
     "execution_count": 33,
     "metadata": {},
     "output_type": "execute_result"
    }
   ],
   "source": [
    "df_drop = df_drop.dropna()\n",
    "df_drop.isnull().sum()"
   ]
  },
  {
   "cell_type": "markdown",
   "id": "ffee686a",
   "metadata": {
    "papermill": {
     "duration": 0.007505,
     "end_time": "2024-12-08T09:52:23.419058",
     "exception": false,
     "start_time": "2024-12-08T09:52:23.411553",
     "status": "completed"
    },
    "tags": []
   },
   "source": [
    "## Data Splitting"
   ]
  },
  {
   "cell_type": "code",
   "execution_count": 34,
   "id": "bb40d5c7",
   "metadata": {
    "execution": {
     "iopub.execute_input": "2024-12-08T09:52:23.321494Z",
     "iopub.status.busy": "2024-12-08T09:52:23.321146Z",
     "iopub.status.idle": "2024-12-08T09:52:23.327259Z",
     "shell.execute_reply": "2024-12-08T09:52:23.326101Z"
    },
    "papermill": {
     "duration": 0.017024,
     "end_time": "2024-12-08T09:52:23.329238",
     "exception": false,
     "start_time": "2024-12-08T09:52:23.312214",
     "status": "completed"
    },
    "tags": []
   },
   "outputs": [],
   "source": [
    "y_zero = df_zero[\"Outcome\"]  \n",
    "x_zero = df_zero.drop(columns=[\"Outcome\"], axis=1) "
   ]
  },
  {
   "cell_type": "code",
   "execution_count": 35,
   "id": "c922e27d",
   "metadata": {
    "execution": {
     "iopub.execute_input": "2024-12-08T09:52:23.346618Z",
     "iopub.status.busy": "2024-12-08T09:52:23.345908Z",
     "iopub.status.idle": "2024-12-08T09:52:23.351892Z",
     "shell.execute_reply": "2024-12-08T09:52:23.351027Z"
    },
    "papermill": {
     "duration": 0.016935,
     "end_time": "2024-12-08T09:52:23.353883",
     "exception": false,
     "start_time": "2024-12-08T09:52:23.336948",
     "status": "completed"
    },
    "tags": []
   },
   "outputs": [],
   "source": [
    "y_mean = df_mean[\"Outcome\"]  \n",
    "x_mean = df_mean.drop(columns=[\"Outcome\"], axis=1)"
   ]
  },
  {
   "cell_type": "code",
   "execution_count": 36,
   "id": "63581b06",
   "metadata": {
    "execution": {
     "iopub.execute_input": "2024-12-08T09:52:23.372141Z",
     "iopub.status.busy": "2024-12-08T09:52:23.371771Z",
     "iopub.status.idle": "2024-12-08T09:52:23.377501Z",
     "shell.execute_reply": "2024-12-08T09:52:23.376509Z"
    },
    "papermill": {
     "duration": 0.017585,
     "end_time": "2024-12-08T09:52:23.379407",
     "exception": false,
     "start_time": "2024-12-08T09:52:23.361822",
     "status": "completed"
    },
    "tags": []
   },
   "outputs": [],
   "source": [
    "y_drop = df_drop[\"Outcome\"]  \n",
    "x_drop = df_drop.drop(columns=[\"Outcome\"], axis=1)"
   ]
  },
  {
   "cell_type": "code",
   "execution_count": 37,
   "id": "ad186cea",
   "metadata": {
    "execution": {
     "iopub.execute_input": "2024-12-08T09:52:23.396906Z",
     "iopub.status.busy": "2024-12-08T09:52:23.396132Z",
     "iopub.status.idle": "2024-12-08T09:52:23.401857Z",
     "shell.execute_reply": "2024-12-08T09:52:23.400808Z"
    },
    "papermill": {
     "duration": 0.016624,
     "end_time": "2024-12-08T09:52:23.403885",
     "exception": false,
     "start_time": "2024-12-08T09:52:23.387261",
     "status": "completed"
    },
    "tags": []
   },
   "outputs": [],
   "source": [
    "y_imputed = df_imputed[\"Outcome\"]  \n",
    "x_imputed = df_imputed.drop(columns=[\"Outcome\"], axis=1)"
   ]
  },
  {
   "cell_type": "code",
   "execution_count": 38,
   "id": "e4603c3b",
   "metadata": {
    "execution": {
     "iopub.execute_input": "2024-12-08T09:52:23.436292Z",
     "iopub.status.busy": "2024-12-08T09:52:23.435468Z",
     "iopub.status.idle": "2024-12-08T09:52:23.448492Z",
     "shell.execute_reply": "2024-12-08T09:52:23.447608Z"
    },
    "papermill": {
     "duration": 0.024075,
     "end_time": "2024-12-08T09:52:23.450668",
     "exception": false,
     "start_time": "2024-12-08T09:52:23.426593",
     "status": "completed"
    },
    "tags": []
   },
   "outputs": [],
   "source": [
    "x_train_zero, x_test_zero, y_train_zero, y_test_zero = train_test_split(x_zero, y_zero, test_size=0.2 ,random_state=221)\n",
    "x_train_drop, x_test_drop, y_train_drop, y_test_drop = train_test_split(x_drop, y_drop, test_size=0.2 ,random_state=221)\n",
    "x_train_mean, x_test_mean, y_train_mean, y_test_mean = train_test_split(x_mean, y_mean, test_size=0.2 ,random_state=221)\n",
    "x_train_imputed, x_test_imputed, y_train_imputed, y_test_imputed = train_test_split(x_imputed, y_imputed, test_size=0.2 ,random_state=221)"
   ]
  },
  {
   "cell_type": "code",
   "execution_count": null,
   "id": "f0fae921",
   "metadata": {},
   "outputs": [],
   "source": [
    "x_test_mean.columns"
   ]
  },
  {
   "cell_type": "code",
   "execution_count": null,
   "id": "3f66f44c",
   "metadata": {},
   "outputs": [],
   "source": [
    "x_test_imputed.head()"
   ]
  },
  {
   "cell_type": "code",
   "execution_count": null,
   "id": "63ae8279",
   "metadata": {},
   "outputs": [],
   "source": [
    "y_test_imputed.head()"
   ]
  },
  {
   "cell_type": "markdown",
   "id": "dacb43c3",
   "metadata": {},
   "source": [
    "## GridSearchCV"
   ]
  },
  {
   "cell_type": "code",
   "execution_count": null,
   "id": "d1cbc26f",
   "metadata": {},
   "outputs": [],
   "source": [
    "rf_clf = RandomForestClassifier(random_state=221)\n",
    "param_grid = {\n",
    "    'n_estimators': [50, 100, 150],\n",
    "    'learning_rate': [0.05, 0.1, 0.2],\n",
    "    'max_depth': [2, 3, 4]\n",
    "}\n",
    "grid_search = GridSearchCV(estimator=rf_clf, param_grid=param_grid, cv=10, scoring='accuracy', n_jobs=-1)\n",
    "grid_search.fit(x_train_imputed, y_train_imputed)"
   ]
  },
  {
   "cell_type": "code",
   "execution_count": null,
   "id": "88a7e3e5",
   "metadata": {},
   "outputs": [],
   "source": [
    "best_params = grid_search.best_params_"
   ]
  },
  {
   "cell_type": "markdown",
   "id": "7281c645",
   "metadata": {
    "papermill": {
     "duration": 0.007359,
     "end_time": "2024-12-08T09:52:23.465661",
     "exception": false,
     "start_time": "2024-12-08T09:52:23.458302",
     "status": "completed"
    },
    "tags": []
   },
   "source": [
    "## Training and Evaluating"
   ]
  },
  {
   "cell_type": "code",
   "execution_count": null,
   "id": "9e64bff1",
   "metadata": {
    "execution": {
     "iopub.execute_input": "2024-12-08T09:52:23.482267Z",
     "iopub.status.busy": "2024-12-08T09:52:23.481878Z",
     "iopub.status.idle": "2024-12-08T09:52:23.865214Z",
     "shell.execute_reply": "2024-12-08T09:52:23.863974Z"
    },
    "papermill": {
     "duration": 0.394243,
     "end_time": "2024-12-08T09:52:23.867407",
     "exception": false,
     "start_time": "2024-12-08T09:52:23.473164",
     "status": "completed"
    },
    "tags": []
   },
   "outputs": [
    {
     "ename": "NameError",
     "evalue": "name 'grid_search' is not defined",
     "output_type": "error",
     "traceback": [
      "\u001b[1;31m---------------------------------------------------------------------------\u001b[0m",
      "\u001b[1;31mNameError\u001b[0m                                 Traceback (most recent call last)",
      "\u001b[1;32m~\\AppData\\Local\\Temp\\ipykernel_12864\\2274739991.py\u001b[0m in \u001b[0;36m<module>\u001b[1;34m\u001b[0m\n\u001b[1;32m----> 1\u001b[1;33m \u001b[0mrf\u001b[0m \u001b[1;33m=\u001b[0m \u001b[0mgrid_search\u001b[0m\u001b[1;33m.\u001b[0m\u001b[0mbest_estimator_\u001b[0m\u001b[1;33m\u001b[0m\u001b[1;33m\u001b[0m\u001b[0m\n\u001b[0m\u001b[0;32m      2\u001b[0m \u001b[0mrf\u001b[0m\u001b[1;33m.\u001b[0m\u001b[0mfit\u001b[0m\u001b[1;33m(\u001b[0m\u001b[0mx_train_imputed\u001b[0m\u001b[1;33m,\u001b[0m \u001b[0my_train_imputed\u001b[0m\u001b[1;33m)\u001b[0m\u001b[1;33m\u001b[0m\u001b[1;33m\u001b[0m\u001b[0m\n\u001b[0;32m      3\u001b[0m \u001b[1;33m\u001b[0m\u001b[0m\n\u001b[0;32m      4\u001b[0m \u001b[0mprint\u001b[0m\u001b[1;33m(\u001b[0m\u001b[0mclassification_report\u001b[0m\u001b[1;33m(\u001b[0m\u001b[0my_test_zero\u001b[0m\u001b[1;33m,\u001b[0m \u001b[0my_pred\u001b[0m\u001b[1;33m)\u001b[0m\u001b[1;33m)\u001b[0m\u001b[1;33m\u001b[0m\u001b[1;33m\u001b[0m\u001b[0m\n",
      "\u001b[1;31mNameError\u001b[0m: name 'grid_search' is not defined"
     ]
    }
   ],
   "source": [
    "random_forest_drop = grid_search.best_estimator_\n",
    "\n",
    "random_forest_drop.fit(x_train_drop, y_train_drop)\n",
    "y_pred = random_forest_drop.predict(x_test_drop)\n",
    "\n",
    "print(classification_report(y_test_drop, y_pred))"
   ]
  },
  {
   "cell_type": "code",
   "execution_count": 40,
   "id": "1fd05866",
   "metadata": {
    "execution": {
     "iopub.execute_input": "2024-12-08T09:52:23.884931Z",
     "iopub.status.busy": "2024-12-08T09:52:23.884521Z",
     "iopub.status.idle": "2024-12-08T09:52:24.264138Z",
     "shell.execute_reply": "2024-12-08T09:52:24.262890Z"
    },
    "papermill": {
     "duration": 0.391286,
     "end_time": "2024-12-08T09:52:24.266565",
     "exception": false,
     "start_time": "2024-12-08T09:52:23.875279",
     "status": "completed"
    },
    "tags": []
   },
   "outputs": [
    {
     "name": "stdout",
     "output_type": "stream",
     "text": [
      "              precision    recall  f1-score   support\n",
      "\n",
      "           0       0.72      0.86      0.78        93\n",
      "           1       0.70      0.49      0.58        61\n",
      "\n",
      "    accuracy                           0.71       154\n",
      "   macro avg       0.71      0.68      0.68       154\n",
      "weighted avg       0.71      0.71      0.70       154\n",
      "\n"
     ]
    }
   ],
   "source": [
    "random_forest_zero = grid_search.best_estimator_\n",
    "\n",
    "random_forest_zero.fit(x_train_zero, y_train_zero)\n",
    "y_pred = random_forest_zero.predict(x_test_zero)\n",
    "\n",
    "print(classification_report(y_test_zero, y_pred))"
   ]
  },
  {
   "cell_type": "code",
   "execution_count": 41,
   "id": "94df43d9",
   "metadata": {
    "execution": {
     "iopub.execute_input": "2024-12-08T09:52:24.284224Z",
     "iopub.status.busy": "2024-12-08T09:52:24.283825Z",
     "iopub.status.idle": "2024-12-08T09:52:24.665020Z",
     "shell.execute_reply": "2024-12-08T09:52:24.663587Z"
    },
    "papermill": {
     "duration": 0.392918,
     "end_time": "2024-12-08T09:52:24.667435",
     "exception": false,
     "start_time": "2024-12-08T09:52:24.274517",
     "status": "completed"
    },
    "tags": []
   },
   "outputs": [
    {
     "name": "stdout",
     "output_type": "stream",
     "text": [
      "              precision    recall  f1-score   support\n",
      "\n",
      "           0       0.72      0.86      0.78        93\n",
      "           1       0.70      0.49      0.58        61\n",
      "\n",
      "    accuracy                           0.71       154\n",
      "   macro avg       0.71      0.68      0.68       154\n",
      "weighted avg       0.71      0.71      0.70       154\n",
      "\n"
     ]
    }
   ],
   "source": [
    "random_forest_mean = grid_search.best_estimator_\n",
    "\n",
    "random_forest_mean.fit(x_train_mean, y_train_mean)\n",
    "y_pred = random_forest_mean.predict(x_test_mean)\n",
    "\n",
    "print(classification_report(y_test_mean, y_pred))"
   ]
  },
  {
   "cell_type": "code",
   "execution_count": 42,
   "id": "78cf55a9",
   "metadata": {
    "execution": {
     "iopub.execute_input": "2024-12-08T09:52:24.685123Z",
     "iopub.status.busy": "2024-12-08T09:52:24.684706Z",
     "iopub.status.idle": "2024-12-08T09:52:25.066169Z",
     "shell.execute_reply": "2024-12-08T09:52:25.064968Z"
    },
    "papermill": {
     "duration": 0.392994,
     "end_time": "2024-12-08T09:52:25.068400",
     "exception": false,
     "start_time": "2024-12-08T09:52:24.675406",
     "status": "completed"
    },
    "tags": []
   },
   "outputs": [
    {
     "name": "stdout",
     "output_type": "stream",
     "text": [
      "              precision    recall  f1-score   support\n",
      "\n",
      "         0.0       0.72      0.86      0.78        93\n",
      "         1.0       0.70      0.49      0.58        61\n",
      "\n",
      "    accuracy                           0.71       154\n",
      "   macro avg       0.71      0.68      0.68       154\n",
      "weighted avg       0.71      0.71      0.70       154\n",
      "\n"
     ]
    }
   ],
   "source": [
    "random_forest_imputed = grid_search.best_estimator_\n",
    "\n",
    "random_forest_imputed.fit(x_train_imputed, y_train_imputed)\n",
    "y_pred = random_forest_imputed.predict(x_test_imputed)\n",
    "\n",
    "print(classification_report(y_test_imputed, y_pred))"
   ]
  },
  {
   "cell_type": "markdown",
   "id": "d0b9b2c3",
   "metadata": {},
   "source": [
    "## Feature selection"
   ]
  },
  {
   "cell_type": "code",
   "execution_count": null,
   "id": "739aeb5b",
   "metadata": {
    "execution": {
     "iopub.execute_input": "2024-12-08T09:52:25.086074Z",
     "iopub.status.busy": "2024-12-08T09:52:25.085642Z",
     "iopub.status.idle": "2024-12-08T09:52:25.428553Z",
     "shell.execute_reply": "2024-12-08T09:52:25.427477Z"
    },
    "papermill": {
     "duration": 0.354501,
     "end_time": "2024-12-08T09:52:25.430873",
     "exception": false,
     "start_time": "2024-12-08T09:52:25.076372",
     "status": "completed"
    },
    "tags": []
   },
   "outputs": [],
   "source": [
    "corr_matrix = df.corr()\n",
    "corr_matrix = corr_matrix[\"Outcome\"].to_frame()\n",
    "plt.figure(figsize=(8, 6))\n",
    "sns.heatmap(corr_matrix, annot=True, cmap='Blues', fmt='.3f', linewidths=0.5)\n",
    "plt.title('Correlation Heatmap')\n",
    "plt.show()"
   ]
  },
  {
   "cell_type": "markdown",
   "id": "972fb47e",
   "metadata": {},
   "source": [
    "## Single feature"
   ]
  },
  {
   "cell_type": "code",
   "execution_count": 44,
   "id": "97991634",
   "metadata": {},
   "outputs": [],
   "source": [
    "y_imputed = df_imputed[\"Outcome\"]  \n",
    "x_imputed = df_imputed.drop(columns=[\"Outcome\"], axis=1)[[\"Glucose\"]] "
   ]
  },
  {
   "cell_type": "code",
   "execution_count": null,
   "id": "8102211d",
   "metadata": {},
   "outputs": [],
   "source": [
    "x_imputed.head()"
   ]
  },
  {
   "cell_type": "code",
   "execution_count": 45,
   "id": "6fe43dde",
   "metadata": {},
   "outputs": [],
   "source": [
    "x_train_imputed, x_test_imputed, y_train_imputed, y_test_imputed = train_test_split(x_imputed, y_imputed, test_size=0.2 ,random_state=221)"
   ]
  },
  {
   "cell_type": "code",
   "execution_count": 46,
   "id": "98e9c058",
   "metadata": {},
   "outputs": [
    {
     "name": "stdout",
     "output_type": "stream",
     "text": [
      "              precision    recall  f1-score   support\n",
      "\n",
      "         0.0       0.70      0.84      0.76        93\n",
      "         1.0       0.64      0.44      0.52        61\n",
      "\n",
      "    accuracy                           0.68       154\n",
      "   macro avg       0.67      0.64      0.64       154\n",
      "weighted avg       0.68      0.68      0.67       154\n",
      "\n"
     ]
    }
   ],
   "source": [
    "random_forest_imputed = grid_search.best_estimator_\n",
    "\n",
    "random_forest_imputed.fit(x_train_imputed, y_train_imputed)\n",
    "y_pred = random_forest_imputed.predict(x_test_zero)\n",
    "\n",
    "print(classification_report(y_test_imputed, y_pred))"
   ]
  },
  {
   "cell_type": "markdown",
   "id": "095bbc7b",
   "metadata": {},
   "source": [
    "## Multi-selective features"
   ]
  },
  {
   "cell_type": "code",
   "execution_count": 47,
   "id": "b1385780",
   "metadata": {
    "execution": {
     "iopub.execute_input": "2024-12-08T09:52:25.450436Z",
     "iopub.status.busy": "2024-12-08T09:52:25.449544Z",
     "iopub.status.idle": "2024-12-08T09:52:25.457000Z",
     "shell.execute_reply": "2024-12-08T09:52:25.455910Z"
    },
    "papermill": {
     "duration": 0.019536,
     "end_time": "2024-12-08T09:52:25.459280",
     "exception": false,
     "start_time": "2024-12-08T09:52:25.439744",
     "status": "completed"
    },
    "tags": []
   },
   "outputs": [],
   "source": [
    "y_imputed = df_imputed[\"Outcome\"]  \n",
    "x_imputed = df_imputed.drop(columns=[\"Outcome\"], axis=1)[[\"Pregnancies\", \"Glucose\", \"BMI\", \"Age\"]] "
   ]
  },
  {
   "cell_type": "code",
   "execution_count": null,
   "id": "9d5d9f81",
   "metadata": {},
   "outputs": [],
   "source": [
    "x_imputed.head()"
   ]
  },
  {
   "cell_type": "code",
   "execution_count": 48,
   "id": "448c65e0",
   "metadata": {
    "execution": {
     "iopub.execute_input": "2024-12-08T09:52:25.478911Z",
     "iopub.status.busy": "2024-12-08T09:52:25.477845Z",
     "iopub.status.idle": "2024-12-08T09:52:25.484876Z",
     "shell.execute_reply": "2024-12-08T09:52:25.483838Z"
    },
    "papermill": {
     "duration": 0.019044,
     "end_time": "2024-12-08T09:52:25.487037",
     "exception": false,
     "start_time": "2024-12-08T09:52:25.467993",
     "status": "completed"
    },
    "tags": []
   },
   "outputs": [],
   "source": [
    "\n",
    "x_train_imputed, x_test_imputed, y_train_imputed, y_test_imputed = train_test_split(x_imputed, y_imputed, test_size=0.2 ,random_state=221)"
   ]
  },
  {
   "cell_type": "code",
   "execution_count": 49,
   "id": "a00e4dd3",
   "metadata": {
    "execution": {
     "iopub.execute_input": "2024-12-08T09:52:25.505591Z",
     "iopub.status.busy": "2024-12-08T09:52:25.505201Z",
     "iopub.status.idle": "2024-12-08T09:52:25.806559Z",
     "shell.execute_reply": "2024-12-08T09:52:25.805218Z"
    },
    "papermill": {
     "duration": 0.314184,
     "end_time": "2024-12-08T09:52:25.809646",
     "exception": false,
     "start_time": "2024-12-08T09:52:25.495462",
     "status": "completed"
    },
    "tags": []
   },
   "outputs": [
    {
     "name": "stdout",
     "output_type": "stream",
     "text": [
      "              precision    recall  f1-score   support\n",
      "\n",
      "         0.0       0.74      0.83      0.78        93\n",
      "         1.0       0.68      0.56      0.61        61\n",
      "\n",
      "    accuracy                           0.72       154\n",
      "   macro avg       0.71      0.69      0.70       154\n",
      "weighted avg       0.72      0.72      0.71       154\n",
      "\n"
     ]
    }
   ],
   "source": [
    "random_forest_imputed = RandomForestClassifier(criterion='gini', bootstrap=True, n_estimators=100, random_state=211)\n",
    "random_forest_imputed.fit(x_train_imputed, y_train_imputed)\n",
    "y_pred = random_forest_imputed.predict(x_test_imputed)\n",
    "\n",
    "print(classification_report(y_test_imputed, y_pred))"
   ]
  },
  {
   "cell_type": "code",
   "execution_count": null,
   "id": "f53ec64f",
   "metadata": {},
   "outputs": [],
   "source": [
    "df = pd.read_csv('./beophi.csv', index_col = 0)"
   ]
  },
  {
   "cell_type": "code",
   "execution_count": null,
   "id": "dd62a796",
   "metadata": {},
   "outputs": [],
   "source": [
    "imputer = KNNImputer(n_neighbors=5, weights=\"uniform\")\n",
    "df_imputed = pd.DataFrame(imputer.fit_transform(df), columns=df.columns)"
   ]
  },
  {
   "cell_type": "code",
   "execution_count": null,
   "id": "322c65b8",
   "metadata": {},
   "outputs": [],
   "source": [
    "y = df_imputed[\"Outcome\"]  \n",
    "x = df_imputed.drop(columns=[\"Outcome\"], axis=1)[[\"Pregnancies\", \"Glucose\", \"BMI\", \"Age\"]] "
   ]
  },
  {
   "cell_type": "code",
   "execution_count": null,
   "id": "56085ef1",
   "metadata": {},
   "outputs": [],
   "source": [
    "x_train, x_test, y_train, y_test = train_test_split(x, y, test_size=0.2 ,random_state=221)"
   ]
  },
  {
   "cell_type": "code",
   "execution_count": null,
   "id": "fb17d211",
   "metadata": {},
   "outputs": [],
   "source": [
    "rf = RandomForestClassifier(criterion='gini', bootstrap=True, n_estimators=100, random_state=211)\n"
   ]
  },
  {
   "cell_type": "code",
   "execution_count": null,
   "id": "0c059d36",
   "metadata": {},
   "outputs": [],
   "source": [
    "rf.fit(x_train, y_train)\n",
    "y_pred = rf.predict(x_test)\n",
    "\n",
    "print(classification_report(y_test, y_pred))"
   ]
  }
 ],
 "metadata": {
  "kaggle": {
   "accelerator": "none",
   "dataSources": [
    {
     "datasetId": 6254637,
     "sourceId": 10134547,
     "sourceType": "datasetVersion"
    }
   ],
   "dockerImageVersionId": 30804,
   "isGpuEnabled": false,
   "isInternetEnabled": true,
   "language": "python",
   "sourceType": "notebook"
  },
  "kernelspec": {
   "display_name": "cs115",
   "language": "python",
   "name": "python3"
  },
  "language_info": {
   "codemirror_mode": {
    "name": "ipython",
    "version": 3
   },
   "file_extension": ".py",
   "mimetype": "text/x-python",
   "name": "python",
   "nbconvert_exporter": "python",
   "pygments_lexer": "ipython3",
   "version": "3.7.12"
  },
  "papermill": {
   "default_parameters": {},
   "duration": 12.805775,
   "end_time": "2024-12-08T09:52:26.941922",
   "environment_variables": {},
   "exception": null,
   "input_path": "__notebook__.ipynb",
   "output_path": "__notebook__.ipynb",
   "parameters": {},
   "start_time": "2024-12-08T09:52:14.136147",
   "version": "2.6.0"
  }
 },
 "nbformat": 4,
 "nbformat_minor": 5
}
