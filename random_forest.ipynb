{
 "cells": [
  {
   "cell_type": "code",
   "execution_count": 4,
   "metadata": {},
   "outputs": [],
   "source": [
    "import torch\n",
    "import pandas as pd\n",
    "import numpy as np\n",
    "import os\n",
    "from sklearn.feature_extraction.text import TfidfVectorizer\n",
    "from sklearn.metrics import classification_report, f1_score, confusion_matrix\n",
    "from sklearn.linear_model import LogisticRegression\n",
    "from sklearn.ensemble import RandomForestClassifier"
   ]
  },
  {
   "cell_type": "code",
   "execution_count": 43,
   "metadata": {},
   "outputs": [],
   "source": [
    "import matplotlib.pyplot as plt\n",
    "import seaborn as sns"
   ]
  },
  {
   "cell_type": "code",
   "execution_count": 44,
   "metadata": {},
   "outputs": [],
   "source": [
    "seed = 221\n",
    "torch.manual_seed(seed)\n",
    "torch.cuda.manual_seed(seed)\n",
    "torch.cuda.manual_seed_all(seed)\n",
    "np.random.seed(seed)\n",
    "os.environ['PYTHONHASHSEED'] = str(seed)\n",
    "torch.backends.cudnn.deterministic = True\n",
    "torch.backends.cudnn.benchmark = False"
   ]
  },
  {
   "cell_type": "markdown",
   "metadata": {
    "vscode": {
     "languageId": "makefile"
    }
   },
   "source": [
    "# Loading Dataset"
   ]
  },
  {
   "cell_type": "code",
   "execution_count": 45,
   "metadata": {},
   "outputs": [],
   "source": [
    "train = pd.read_csv('../train.csv', index_col=0)\n",
    "val = pd.read_csv('../valid.csv', index_col=0)\n",
    "test = pd.read_csv('../test.csv', index_col=0)"
   ]
  },
  {
   "cell_type": "code",
   "execution_count": 46,
   "metadata": {},
   "outputs": [
    {
     "name": "stdout",
     "output_type": "stream",
     "text": [
      "<class 'pandas.core.frame.DataFrame'>\n",
      "Int64Index: 11426 entries, 0 to 11425\n",
      "Data columns (total 3 columns):\n",
      " #   Column     Non-Null Count  Dtype \n",
      "---  ------     --------------  ----- \n",
      " 0   sentence   11426 non-null  object\n",
      " 1   sentiment  11426 non-null  int64 \n",
      " 2   topic      11426 non-null  int64 \n",
      "dtypes: int64(2), object(1)\n",
      "memory usage: 357.1+ KB\n"
     ]
    }
   ],
   "source": [
    "train.info()"
   ]
  },
  {
   "cell_type": "code",
   "execution_count": 47,
   "metadata": {},
   "outputs": [],
   "source": [
    "train.drop(columns=['topic'], axis=1, inplace=True)\n",
    "val.drop(columns=['topic'], axis=1, inplace=True)\n",
    "test.drop(columns=['topic'], axis=1, inplace=True)"
   ]
  },
  {
   "cell_type": "code",
   "execution_count": 48,
   "metadata": {},
   "outputs": [],
   "source": [
    "train = pd.concat([train, val])"
   ]
  },
  {
   "cell_type": "code",
   "execution_count": 49,
   "metadata": {},
   "outputs": [
    {
     "data": {
      "text/plain": [
       "array([2, 0, 1], dtype=int64)"
      ]
     },
     "execution_count": 49,
     "metadata": {},
     "output_type": "execute_result"
    }
   ],
   "source": [
    "test['sentiment'].unique()"
   ]
  },
  {
   "cell_type": "code",
   "execution_count": 50,
   "metadata": {},
   "outputs": [
    {
     "data": {
      "text/html": [
       "<div>\n",
       "<style scoped>\n",
       "    .dataframe tbody tr th:only-of-type {\n",
       "        vertical-align: middle;\n",
       "    }\n",
       "\n",
       "    .dataframe tbody tr th {\n",
       "        vertical-align: top;\n",
       "    }\n",
       "\n",
       "    .dataframe thead th {\n",
       "        text-align: right;\n",
       "    }\n",
       "</style>\n",
       "<table border=\"1\" class=\"dataframe\">\n",
       "  <thead>\n",
       "    <tr style=\"text-align: right;\">\n",
       "      <th></th>\n",
       "      <th>sentence</th>\n",
       "      <th>sentiment</th>\n",
       "    </tr>\n",
       "  </thead>\n",
       "  <tbody>\n",
       "    <tr>\n",
       "      <th>0</th>\n",
       "      <td>slide giáo trình đầy đủ .</td>\n",
       "      <td>2</td>\n",
       "    </tr>\n",
       "    <tr>\n",
       "      <th>1</th>\n",
       "      <td>nhiệt tình giảng dạy , gần gũi với sinh viên .</td>\n",
       "      <td>2</td>\n",
       "    </tr>\n",
       "    <tr>\n",
       "      <th>2</th>\n",
       "      <td>đi học đầy đủ full điểm chuyên cần .</td>\n",
       "      <td>0</td>\n",
       "    </tr>\n",
       "    <tr>\n",
       "      <th>3</th>\n",
       "      <td>chưa áp dụng công nghệ thông tin và các thiết ...</td>\n",
       "      <td>0</td>\n",
       "    </tr>\n",
       "    <tr>\n",
       "      <th>4</th>\n",
       "      <td>thầy giảng bài hay , có nhiều bài tập ví dụ ng...</td>\n",
       "      <td>2</td>\n",
       "    </tr>\n",
       "  </tbody>\n",
       "</table>\n",
       "</div>"
      ],
      "text/plain": [
       "                                            sentence  sentiment\n",
       "0                          slide giáo trình đầy đủ .          2\n",
       "1     nhiệt tình giảng dạy , gần gũi với sinh viên .          2\n",
       "2               đi học đầy đủ full điểm chuyên cần .          0\n",
       "3  chưa áp dụng công nghệ thông tin và các thiết ...          0\n",
       "4  thầy giảng bài hay , có nhiều bài tập ví dụ ng...          2"
      ]
     },
     "execution_count": 50,
     "metadata": {},
     "output_type": "execute_result"
    }
   ],
   "source": [
    "train.head()"
   ]
  },
  {
   "cell_type": "markdown",
   "metadata": {},
   "source": [
    "# Random Forest + TF-IDF"
   ]
  },
  {
   "cell_type": "code",
   "execution_count": 51,
   "metadata": {},
   "outputs": [],
   "source": [
    "x_train = train['sentence'].to_list()\n",
    "y_train = train['sentiment'].to_list()\n",
    "\n",
    "x_test = test['sentence'].to_list()\n",
    "y_test = test['sentiment'].to_list()"
   ]
  },
  {
   "cell_type": "code",
   "execution_count": 52,
   "metadata": {},
   "outputs": [],
   "source": [
    "vietnamese_stopwords = pd.read_csv('../vietnamese-stopwords.txt', header=None, sep='\\n')\n",
    "vietnamese_stopwords = vietnamese_stopwords[0].to_list()"
   ]
  },
  {
   "cell_type": "code",
   "execution_count": 53,
   "metadata": {},
   "outputs": [],
   "source": [
    "tfidf = TfidfVectorizer(smooth_idf=True, strip_accents='unicode', stop_words=vietnamese_stopwords, lowercase=True, encoding='utf-8', analyzer='word', ngram_range=(1, 3), max_features=5000)"
   ]
  },
  {
   "cell_type": "code",
   "execution_count": 54,
   "metadata": {},
   "outputs": [
    {
     "name": "stderr",
     "output_type": "stream",
     "text": [
      "c:\\Users\\Admin\\.conda\\envs\\cs115\\lib\\site-packages\\sklearn\\feature_extraction\\text.py:401: UserWarning: Your stop_words may be inconsistent with your preprocessing. Tokenizing the stop words generated tokens ['alo', 'an', 'ang', 'ao', 'at', 'au', 'ay', 'bac', 'bai', 'ban', 'bang', 'bao', 'bap', 'bat', 'bay', 'ben', 'beng', 'bet', 'bi', 'bien', 'biet', 'bo', 'boi', 'bom', 'bong', 'buc', 'buoc', 'buoi', 'ca', 'cac', 'cach', 'cai', 'cam', 'can', 'cang', 'canh', 'cap', 'cat', 'cau', 'cay', 'chac', 'cham', 'chan', 'chang', 'chanh', 'chao', 'chap', 'chay', 'chet', 'chi', 'chia', 'chiec', 'chin', 'chinh', 'chiu', 'choc', 'choi', 'chon', 'chot', 'chu', 'chua', 'chuan', 'chui', 'chun', 'chuyen', 'co', 'coc', 'coi', 'cong', 'cu', 'cua', 'cuc', 'cung', 'cuoc', 'cuoi', 'cuon', 'da', 'dai', 'dan', 'danh', 'dao', 'dau', 'de', 'di', 'dip', 'du', 'dung', 'duoi', 'gan', 'gap', 'gay', 'gi', 'gia', 'giac', 'giam', 'gian', 'gio', 'gioi', 'giong', 'giu', 'giua', 'gom', 'ha', 'han', 'hau', 'hen', 'het', 'hien', 'hieu', 'hinh', 'ho', 'hoac', 'hoan', 'hoi', 'hon', 'hop', 'hu', 'it', 'ke', 'kha', 'khac', 'khach', 'khan', 'khang', 'khien', 'kho', 'khoang', 'khoi', 'khong', 'ki', 'kia', 'kien', 'ky', 'la', 'lai', 'lam', 'lan', 'lap', 'lau', 'lay', 'le', 'len', 'li', 'lien', 'liet', 'linh', 'lo', 'loai', 'loat', 'loi', 'lon', 'long', 'lu', 'luan', 'luat', 'luc', 'luon', 'luong', 'luot', 'ly', 'ma', 'manh', 'mat', 'may', 'me', 'minh', 'mo', 'moi', 'mot', 'mu', 'muc', 'muon', 'na', 'nam', 'nang', 'nao', 'nen', 'neu', 'ngan', 'ngat', 'nghi', 'nghiem', 'nghim', 'ngo', 'ngoai', 'ngoi', 'ngon', 'ngot', 'nguoi', 'nguon', 'nha', 'nham', 'nhan', 'nhang', 'nhat', 'nhe', 'nhen', 'nhi', 'nhien', 'nhiet', 'nhieu', 'nhin', 'nho', 'nhom', 'nhon', 'nhu', 'nhung', 'nhuoc', 'no', 'noc', 'noi', 'nua', 'nuc', 'nuoc', 'oai', 'oi', 'on', 'ong', 'phai', 'pham', 'phan', 'phat', 'phe', 'phi', 'phia', 'phoc', 'phong', 'phot', 'phu', 'phui', 'phuong', 'phut', 'quan', 'qui', 'quy', 'quyet', 'rang', 'rao', 'rat', 'ray', 'ren', 'rich', 'rieng', 'riet', 'riu', 'ro', 'roi', 'ron', 'rot', 'rua', 'rut', 'sa', 'sap', 'sat', 'se', 'si', 'sinh', 'som', 'song', 'sot', 'su', 'suc', 'suyt', 'ta', 'tai', 'tam', 'tan', 'tang', 'tao', 'tap', 'tat', 'te', 'ten', 'tenh', 'tha', 'thai', 'tham', 'than', 'thang', 'thao', 'thap', 'that', 'thay', 'the', 'thech', 'them', 'thi', 'thich', 'thien', 'thiet', 'thieu', 'thim', 'thinh', 'thoang', 'thoat', 'thoc', 'thoi', 'thom', 'thot', 'thu', 'thua', 'thuan', 'thuc', 'thung', 'thuoc', 'thuong', 'ti', 'tien', 'tiep', 'tiet', 'tim', 'tinh', 'tit', 'to', 'toa', 'toan', 'toc', 'toe', 'toet', 'toi', 'tong', 'tot', 'tra', 'trang', 'tranh', 'trao', 'tren', 'tret', 'treu', 'tri', 'trinh', 'tro', 'troi', 'tru', 'truc', 'trung', 'truoc', 'tu', 'tuan', 'tuc', 'tung', 'tuoi', 'tuon', 'tuong', 'tuot', 'tuu', 'tuyet', 'ua', 'ui', 'va', 'vai', 'van', 'vang', 'vao', 'vay', 've', 'vi', 'viec', 'vo', 'voi', 'von', 'vua', 'vung', 'vuot', 'vut', 'xam', 'xay', 'xech', 'xenh', 'xep', 'xiet', 'xoach', 'xoan', 'xoanh', 'xoet', 'xon', 'xu', 'xua', 'xuat', 'xue', 'xui', 'xuong', 'yeu', 'đa', 'đac', 'đach', 'đai', 'đam', 'đan', 'đanh', 'đao', 'đat', 'đau', 'đay', 'đe', 'đen', 'đeu', 'đi', 'đia', 'điem', 'đieu', 'đinh', 'đo', 'đoi', 'đon', 'đong', 'đu', 'đua', 'đung', 'đuoc'] not in stop_words.\n",
      "  % sorted(inconsistent)\n"
     ]
    }
   ],
   "source": [
    "encoded_x_train = tfidf.fit_transform(x_train)\n",
    "encoded_x_test = tfidf.transform(x_test)"
   ]
  },
  {
   "cell_type": "code",
   "execution_count": 55,
   "metadata": {},
   "outputs": [
    {
     "data": {
      "text/plain": [
       "<13009x5000 sparse matrix of type '<class 'numpy.float64'>'\n",
       "\twith 266049 stored elements in Compressed Sparse Row format>"
      ]
     },
     "execution_count": 55,
     "metadata": {},
     "output_type": "execute_result"
    }
   ],
   "source": [
    "encoded_x_train"
   ]
  },
  {
   "cell_type": "code",
   "execution_count": 56,
   "metadata": {},
   "outputs": [],
   "source": [
    "random_forest = RandomForestClassifier(criterion='gini', bootstrap=True, n_estimators=100, random_state=seed)"
   ]
  },
  {
   "cell_type": "code",
   "execution_count": 57,
   "metadata": {},
   "outputs": [
    {
     "data": {
      "text/plain": [
       "RandomForestClassifier(random_state=221)"
      ]
     },
     "execution_count": 57,
     "metadata": {},
     "output_type": "execute_result"
    }
   ],
   "source": [
    "random_forest"
   ]
  },
  {
   "cell_type": "code",
   "execution_count": 58,
   "metadata": {},
   "outputs": [
    {
     "data": {
      "text/plain": [
       "RandomForestClassifier(random_state=221)"
      ]
     },
     "execution_count": 58,
     "metadata": {},
     "output_type": "execute_result"
    }
   ],
   "source": [
    "random_forest.fit(encoded_x_train, y_train)"
   ]
  },
  {
   "cell_type": "code",
   "execution_count": 59,
   "metadata": {},
   "outputs": [
    {
     "data": {
      "text/plain": [
       "array([2, 2, 2, ..., 2, 2, 0])"
      ]
     },
     "execution_count": 59,
     "metadata": {},
     "output_type": "execute_result"
    }
   ],
   "source": [
    "predict = random_forest.predict(encoded_x_test)\n",
    "predict"
   ]
  },
  {
   "cell_type": "code",
   "execution_count": 60,
   "metadata": {},
   "outputs": [
    {
     "name": "stdout",
     "output_type": "stream",
     "text": [
      "              precision    recall  f1-score   support\n",
      "\n",
      "           0       0.83      0.94      0.88      1409\n",
      "           1       0.50      0.11      0.18       167\n",
      "           2       0.91      0.87      0.89      1590\n",
      "\n",
      "    accuracy                           0.86      3166\n",
      "   macro avg       0.74      0.64      0.65      3166\n",
      "weighted avg       0.85      0.86      0.85      3166\n",
      "\n"
     ]
    }
   ],
   "source": [
    "print(classification_report(y_test, predict))"
   ]
  },
  {
   "cell_type": "code",
   "execution_count": 61,
   "metadata": {},
   "outputs": [
    {
     "data": {
      "text/plain": [
       "array([2])"
      ]
     },
     "execution_count": 61,
     "metadata": {},
     "output_type": "execute_result"
    }
   ],
   "source": [
    "input = [\"Thầy dạy dễ hiểu\"]\n",
    "x = tfidf.transform(input)\n",
    "random_forest.predict(x)"
   ]
  },
  {
   "cell_type": "code",
   "execution_count": 64,
   "metadata": {},
   "outputs": [
    {
     "data": {
      "image/png": "[encoded data removed]",
      "text/plain": [
       "<Figure size 800x600 with 1 Axes>"
      ]
     },
     "metadata": {},
     "output_type": "display_data"
    }
   ],
   "source": [
    "conf_ma = confusion_matrix(y_test, predict)\n",
    "labels = ['0', '1', '2'] # 0: negative, 1: neutral, 2: positive\n",
    "plt.figure(figsize=(8, 6))\n",
    "sns.heatmap(conf_ma, annot=True, cmap='Purples', fmt='g', cbar=False)\n",
    "\n",
    "# Add labels, title, and ticks\n",
    "plt.title('Confusion Matrix of Boosting')\n",
    "plt.xlabel('Predicted')\n",
    "plt.ylabel('Actual')\n",
    "plt.xticks(np.arange(len(labels)) + 0.5, labels)\n",
    "plt.yticks(np.arange(len(labels)) + 0.5, labels, rotation=0)\n",
    "plt.show()"
   ]
  }
 ],
 "metadata": {
  "kernelspec": {
   "display_name": "cs115",
   "language": "python",
   "name": "python3"
  },
  "language_info": {
   "codemirror_mode": {
    "name": "ipython",
    "version": 3
   },
   "file_extension": ".py",
   "mimetype": "text/x-python",
   "name": "python",
   "nbconvert_exporter": "python",
   "pygments_lexer": "ipython3",
   "version": "3.7.12"
  }
 },
 "nbformat": 4,
 "nbformat_minor": 2
}
